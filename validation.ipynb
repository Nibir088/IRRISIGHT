{
 "cells": [
  {
   "cell_type": "code",
   "execution_count": 1,
   "id": "8e62ea50-5954-49f2-bd6d-bd6f832352b5",
   "metadata": {
    "tags": []
   },
   "outputs": [],
   "source": [
    "# merge_and_correlate.py\n",
    "\n",
    "import numpy as np\n",
    "from shapely.geometry import box\n",
    "from rasterio.transform import from_bounds\n",
    "from scipy.stats import pearsonr\n",
    "from tqdm import tqdm\n",
    "from data.dataset_v3 import ImageMaskDataset\n",
    "from sentence_transformers import SentenceTransformer\n",
    "from collections import defaultdict\n",
    "import rasterio\n",
    "from rasterio.transform import Affine\n",
    "import os\n",
    "import numpy as np\n",
    "from tqdm import tqdm\n",
    "from collections import defaultdict\n",
    "import rasterio\n",
    "from rasterio.crs import CRS\n",
    "\n",
    "import os\n",
    "import random\n",
    "import numpy as np\n",
    "from tqdm import tqdm\n",
    "from collections import defaultdict\n",
    "import rasterio\n",
    "from rasterio.transform import from_bounds\n",
    "from rasterio.crs import CRS\n",
    "\n",
    "def merge_masks(\n",
    "    dataset,\n",
    "    resolution=100,\n",
    "    output_dir=\"/project/biocomplexity/wyr6fx(Nibir)/NeurIPS_Irrigation_Mapping_Model/Results\",\n",
    "    crs=\"EPSG:5070\",\n",
    "    num_irr_classes=4,\n",
    "    state='Arizona',\n",
    "    max_patches=20000,\n",
    "    seed=42\n",
    "):\n",
    "    # Step 1: Randomly select up to 20K valid patches\n",
    "    all_bounds = []\n",
    "    valid_samples = []\n",
    "\n",
    "    indices = list(range(len(dataset)))\n",
    "    random.seed(seed)\n",
    "    random.shuffle(indices)\n",
    "\n",
    "    selected = 0\n",
    "    for i in tqdm(indices, desc=\"Scanning and selecting samples\"):\n",
    "        if selected >= max_patches:\n",
    "            break\n",
    "        sample = dataset[i]\n",
    "        if sample['irr_mask'] is None:\n",
    "            continue\n",
    "        bounds = sample['polygon'].bounds\n",
    "        all_bounds.append(bounds)\n",
    "        valid_samples.append((sample, bounds))\n",
    "        selected += 1\n",
    "\n",
    "    print(f\"\\n✅ Selected {len(valid_samples)} valid samples (out of {len(dataset)})\")\n",
    "\n",
    "    # Step 2: Compute global raster bounds and shape\n",
    "    bounds_array = np.array(all_bounds)\n",
    "    xmin, ymin = bounds_array[:, 0].min(), bounds_array[:, 1].min()\n",
    "    xmax, ymax = bounds_array[:, 2].max(), bounds_array[:, 3].max()\n",
    "\n",
    "    width = int(np.ceil((xmax - xmin) / resolution))\n",
    "    height = int(np.ceil((ymax - ymin) / resolution))\n",
    "    transform = from_bounds(xmin, ymin, xmax, ymax, width, height)\n",
    "    os.makedirs(output_dir, exist_ok=True)\n",
    "\n",
    "    # Step 3: Initialize rasters\n",
    "    crop_classes = np.zeros((255, height, width), dtype=np.float32)  # fixed 255 channels\n",
    "    irr_stack = np.zeros((num_irr_classes, height, width), dtype=np.uint32)\n",
    "    count_raster = np.zeros((height, width), dtype=np.uint32)\n",
    "\n",
    "    for sample, bounds in tqdm(valid_samples, desc=\"Merging patches\"):\n",
    "        crop = sample['crop_mask'].squeeze().numpy()\n",
    "        irr = sample['irr_mask'].squeeze().numpy().astype(np.uint8)\n",
    "\n",
    "        h, w = crop.shape\n",
    "        x0 = int((bounds[0] - xmin) / resolution)\n",
    "        y0 = int((ymax - bounds[3]) / resolution)\n",
    "        y1 = min(y0 + h, height)\n",
    "        x1 = min(x0 + w, width)\n",
    "\n",
    "        h_clip = y1 - y0\n",
    "        w_clip = x1 - x0\n",
    "        if h_clip <= 0 or w_clip <= 0:\n",
    "            continue\n",
    "\n",
    "        crop = crop[:h_clip, :w_clip]\n",
    "        irr = irr[:h_clip, :w_clip]\n",
    "\n",
    "        unique_vals = np.unique(crop)\n",
    "        for val in unique_vals:\n",
    "            if val <= 0.0 or val > 1.0:\n",
    "                continue\n",
    "            crop_type = int(round(val * 255))\n",
    "            if crop_type == 0 or crop_type > 255:\n",
    "                continue\n",
    "            mask = (crop == val).astype(np.float32)\n",
    "            crop_classes[crop_type - 1, y0:y1, x0:x1] += mask  # index from 0\n",
    "\n",
    "        for c in range(num_irr_classes):\n",
    "            mask = (irr == c).astype(np.uint8)\n",
    "            irr_stack[c, y0:y1, x0:x1] += mask\n",
    "\n",
    "        count_raster[y0:y1, x0:x1] += 1\n",
    "\n",
    "    # Step 4: Post-process outputs\n",
    "    irr_raster = np.argmax(irr_stack, axis=0).astype(np.uint8)\n",
    "    valid_mask = (count_raster > 0).astype(np.uint8)\n",
    "    count_raster[count_raster == 0] = 1  # avoid division by zero\n",
    "\n",
    "    crop_stack = (crop_classes / count_raster).astype(np.float32)\n",
    "\n",
    "    def save_raster(path, data, count=1, dtype=\"uint8\"):\n",
    "        with rasterio.open(\n",
    "            path, \"w\", driver=\"GTiff\",\n",
    "            height=height, width=width, count=count,\n",
    "            dtype=dtype, transform=transform, crs=CRS.from_string(crs)\n",
    "        ) as dst:\n",
    "            if count == 1:\n",
    "                dst.write(data, 1)\n",
    "            else:\n",
    "                dst.write(data)\n",
    "\n",
    "    save_raster(os.path.join(output_dir, f\"irrigation_majority_{state}.tif\"), irr_raster, count=1, dtype=\"uint8\")\n",
    "    save_raster(os.path.join(output_dir, f\"valid_mask_{state}.tif\"), valid_mask, count=1, dtype=\"uint8\")\n",
    "    save_raster(os.path.join(output_dir, f\"crop_distribution_{state}.tif\"), crop_stack, count=255, dtype=\"float32\")\n",
    "\n",
    "    print(f\"\\n✅ Merged and saved {selected} patches for {state}\")\n",
    "    print(f\"✅ Files saved to: {output_dir}\")\n",
    "\n",
    "\n",
    "\n",
    "import rasterio\n",
    "import numpy as np\n",
    "from scipy.stats import pearsonr\n",
    "\n",
    "def load_and_compute_crop_irr_correlation(\n",
    "    crop_path: str,\n",
    "    irr_path: str,\n",
    "    valid_path: str,\n",
    "    num_irr_classes: int = 4\n",
    "):\n",
    "    \"\"\"\n",
    "    Loads raster files and computes correlation between crop fractions and irrigation classes.\n",
    "    Returns a nested dict[crop_id][irr_class] = pearson_corr\n",
    "    \"\"\"\n",
    "    # --- Load crop multi-band raster ---\n",
    "    with rasterio.open(crop_path) as src:\n",
    "        crop_stack = src.read()  # shape: (num_crops, H, W)\n",
    "        crop_ids = list(range(1, crop_stack.shape[0] + 1))  # assume band i = crop i\n",
    "\n",
    "    crop_rasters = {crop_id: crop_stack[i] for i, crop_id in enumerate(crop_ids)}\n",
    "\n",
    "    # --- Load categorical irrigation raster ---\n",
    "    with rasterio.open(irr_path) as src:\n",
    "        irr_raster = src.read(1)  # shape: (H, W)\n",
    "\n",
    "    # --- Load valid pixel mask ---\n",
    "    with rasterio.open(valid_path) as src:\n",
    "        valid_mask = src.read(1).astype(bool)\n",
    "\n",
    "    irr_flat = irr_raster[valid_mask].flatten()\n",
    "    correlations = {}\n",
    "\n",
    "    for crop_id, crop_band in crop_rasters.items():\n",
    "        crop_flat = crop_band[valid_mask].flatten()\n",
    "        crop_corrs = {}\n",
    "\n",
    "        for irr_class in range(num_irr_classes):\n",
    "            irr_binary = (irr_flat == irr_class).astype(np.float32)\n",
    "            if np.std(irr_binary) == 0 or np.std(crop_flat) == 0:\n",
    "                corr = 0.0  # fallback for degenerate case\n",
    "            else:\n",
    "                corr = pearsonr(crop_flat, irr_binary)[0]\n",
    "            crop_corrs[irr_class] = corr\n",
    "\n",
    "        correlations[int(crop_id)] = crop_corrs\n",
    "\n",
    "    return correlations\n",
    "\n",
    "\n",
    "\n",
    "def compute_text_irrigation_correlation(dataset):\n",
    "    model = SentenceTransformer(\"all-MiniLM-L6-v2\")\n",
    "    embeddings = []\n",
    "    labels = []\n",
    "\n",
    "    for i in tqdm(range(len(dataset)), desc=\"Text-Irrigation correlation\"):\n",
    "        sample = dataset[i]\n",
    "        if sample['irr_mask'] is None:\n",
    "            continue\n",
    "        text = sample['text_prompt']\n",
    "        emb = model.encode(text)\n",
    "        irr = sample['irr_mask'].squeeze().numpy()\n",
    "        avg_irr = np.mean(irr > 0)\n",
    "        embeddings.append(emb)\n",
    "        labels.append(avg_irr)\n",
    "\n",
    "    embeddings = np.array(embeddings)\n",
    "    labels = np.array(labels)\n",
    "    correlations = [pearsonr(embeddings[:, i], labels)[0] for i in range(embeddings.shape[1])]\n",
    "    return correlations, np.mean(np.abs(correlations))\n",
    "\n",
    "import pandas as pd\n",
    "\n",
    "def save_correlation_to_csv(correlations: dict, output_path: str):\n",
    "    \"\"\"\n",
    "    Saves nested dict[crop_id][irr_class] = correlation to CSV.\n",
    "    Each row is a crop; columns are IrrClass_0, IrrClass_1, ...\n",
    "    \"\"\"\n",
    "    df = pd.DataFrame.from_dict(correlations, orient='index')\n",
    "    df.index.name = \"CropID\"\n",
    "    df.columns = [f\"IrrClass_{c}\" for c in df.columns]\n",
    "    df.to_csv(output_path)\n",
    "    print(f\"✅ Saved correlation CSV to: {output_path}\")\n",
    "\n",
    "# if __name__ == \"__main__\":\n",
    "#     data_dir = \"/project/biocomplexity/wyr6fx(Nibir)/NeurIPS_irrigation_data/Train-Test-Split\"\n",
    "#     dataset = ImageMaskDataset(\n",
    "#         data_dir=data_dir,\n",
    "#         states=[('Arizona', 1.0)],\n",
    "#         train_type='cross-state',\n",
    "#         split='train',\n",
    "#         transform=False,\n",
    "#         vision_indices=['image']\n",
    "#     )\n",
    "\n",
    "#     width, height, transform, valid_samples, xmin, ymin, xmax, ymax, resolution = merge_masks(dataset)\n",
    "#     crop_rasters, irr_raster, valid_mask = find_crop_irr_raster(width, height, transform, valid_samples, xmin, ymin, xmax, ymax, resolution)\n",
    "#     crop_irr_corr = compute_crop_irr_correlation(crop_rasters, irr_raster, valid_mask)\n",
    "#     print(\"\\n✅ Crop-Irrigation Correlation per Crop Type:\")\n",
    "#     for crop_id, corr in crop_irr_corr.items():\n",
    "#         print(f\"  Crop {crop_id:3d} → Corr: {corr:.4f}\")\n",
    "\n",
    "#     correlations, mean_corr = compute_text_irrigation_correlation(dataset)\n",
    "#     print(f\"\\n📝 Mean absolute correlation (text → irrigation): {mean_corr:.4f}\")\n"
   ]
  },
  {
   "cell_type": "code",
   "execution_count": 2,
   "id": "6769494e-7e92-4e6f-922b-f06d65f1053a",
   "metadata": {
    "tags": []
   },
   "outputs": [
    {
     "name": "stderr",
     "output_type": "stream",
     "text": [
      "Scanning and selecting samples: 100%|██████████| 7083/7083 [11:39<00:00, 10.12it/s]\n"
     ]
    },
    {
     "name": "stdout",
     "output_type": "stream",
     "text": [
      "\n",
      "✅ Selected 7083 valid samples (out of 7083)\n"
     ]
    },
    {
     "name": "stderr",
     "output_type": "stream",
     "text": [
      "Merging patches: 100%|██████████| 7083/7083 [00:24<00:00, 291.67it/s]\n"
     ]
    },
    {
     "name": "stdout",
     "output_type": "stream",
     "text": [
      "\n",
      "✅ Merged and saved 7083 patches for Georgia\n",
      "✅ Files saved to: /project/biocomplexity/wyr6fx(Nibir)/NeurIPS_Irrigation_Mapping_Model/Results\n"
     ]
    }
   ],
   "source": [
    "data_dir = \"/project/biocomplexity/wyr6fx(Nibir)/NeurIPS_irrigation_data/Train-Test-Split\"\n",
    "state = 'Georgia'\n",
    "dataset = ImageMaskDataset(\n",
    "        data_dir=data_dir,\n",
    "        states=[(state, 1.0)],\n",
    "        train_type='cross-state',\n",
    "        split='train',\n",
    "        transform=False,\n",
    "        vision_indices=['image']\n",
    "    )\n",
    "\n",
    "merge_masks(dataset, state=state)"
   ]
  },
  {
   "cell_type": "code",
   "execution_count": 5,
   "id": "c08eb456-da6c-42cf-97e1-a7ebeb8d9a54",
   "metadata": {
    "tags": []
   },
   "outputs": [
    {
     "name": "stdout",
     "output_type": "stream",
     "text": [
      "✅ Saved correlation CSV to: /project/biocomplexity/wyr6fx(Nibir)/NeurIPS_Irrigation_Mapping_Model/Results/crop_irr_corr_Georgia.csv\n"
     ]
    }
   ],
   "source": [
    "state = 'Georgia'\n",
    "crop_path = f'/project/biocomplexity/wyr6fx(Nibir)/NeurIPS_Irrigation_Mapping_Model/Results/crop_distribution_{state}.tif'\n",
    "irr_path = f'/project/biocomplexity/wyr6fx(Nibir)/NeurIPS_Irrigation_Mapping_Model/Results/irrigation_majority_{state}.tif'\n",
    "valid_path = f'/project/biocomplexity/wyr6fx(Nibir)/NeurIPS_Irrigation_Mapping_Model/Results/valid_mask_{state}.tif'\n",
    "output_path = f'/project/biocomplexity/wyr6fx(Nibir)/NeurIPS_Irrigation_Mapping_Model/Results/crop_irr_corr_{state}.csv'\n",
    "corr = load_and_compute_crop_irr_correlation(crop_path,\n",
    "    irr_path,\n",
    "    valid_path)\n",
    "save_correlation_to_csv(corr,output_path=output_path)"
   ]
  },
  {
   "cell_type": "code",
   "execution_count": 2,
   "id": "a3218f00-fd53-4022-b3f9-e255277ce69c",
   "metadata": {
    "tags": []
   },
   "outputs": [],
   "source": [
    "###### crop-irr correlation\n",
    "\n",
    "from collections import defaultdict\n",
    "\n",
    "from collections import defaultdict\n",
    "from tqdm import tqdm\n",
    "CROP_GROUPS_CDL = {\n",
    "    \"Grain\": [1, 3, 4, 21, 22, 23, 24, 27, 28, 29, 30],\n",
    "    \"Oilseed\": [5, 6, 31, 32, 33, 34, 35],\n",
    "    \"Legume\": [10, 42, 51, 52, 53],\n",
    "    \"Vegetable\": [12, 43, 46, 47, 48, 49, 50, 54, 56, 206, 207, 208, 214, 216, 219, 227, 229, 243, 244],\n",
    "    \"Orchard\": [66, 67, 68, 69, 70, 71, 72, 74, 75, 76, 77, 204, 210, 211, 212, 215, 217, 218, 220, 223],\n",
    "    \"Forage\": [36, 37, 38, 39, 58, 59, 60],\n",
    "    \"Specialty\": [2, 11, 13, 14, 41, 44, 45, 55, 57, 221, 222, 242],\n",
    "    \"DoubleCrop/Other\": list(range(26, 67)) + list(range(81, 95)),  # includes double crop combinations and other mixed classes\n",
    "}\n",
    "def load_and_compute_group_crop_irr_percentage(\n",
    "    crop_path: str,\n",
    "    irr_path: str,\n",
    "    valid_path: str,\n",
    "    crop_groups: dict = CROP_GROUPS_CDL,\n",
    "    num_irr_classes: int = 4  # assume classes: 0 (no irrigation), 1, 2, 3\n",
    "):\n",
    "    import rasterio\n",
    "    import numpy as np\n",
    "\n",
    "    with rasterio.open(crop_path) as src:\n",
    "        crop_stack = src.read()  # shape: (num_crops, H, W)\n",
    "\n",
    "    crop_ids = list(range(1, crop_stack.shape[0] + 1))\n",
    "    crop_rasters = {crop_id: crop_stack[i] for i, crop_id in enumerate(crop_ids)}\n",
    "\n",
    "    with rasterio.open(irr_path) as src:\n",
    "        irr_raster = src.read(1)\n",
    "\n",
    "    with rasterio.open(valid_path) as src:\n",
    "        valid_mask = src.read(1).astype(bool)\n",
    "\n",
    "    irr_raster = irr_raster[valid_mask]\n",
    "    group_percentages = {}\n",
    "\n",
    "    for group_name, crop_ids in crop_groups.items():\n",
    "        combined_crop = np.zeros_like(irr_raster, dtype=np.float32)\n",
    "\n",
    "        for cid in crop_ids:\n",
    "            if cid in crop_rasters:\n",
    "                combined_crop += crop_rasters[cid][valid_mask]\n",
    "\n",
    "        # Only include irrigated classes (1, 2, 3)\n",
    "        class_area = {}\n",
    "        total_irrigated_area = 0.0\n",
    "\n",
    "        for irr_class in range(1, num_irr_classes):  # skip 0 (non-irrigated)\n",
    "            irr_mask = (irr_raster == irr_class)\n",
    "            area = combined_crop[irr_mask].sum()\n",
    "            class_area[irr_class] = area\n",
    "            total_irrigated_area += area\n",
    "\n",
    "        if total_irrigated_area == 0:\n",
    "            continue  # skip groups with no irrigation at all\n",
    "\n",
    "        # Normalize percentages so that sum = 100\n",
    "        method_percentages = {\n",
    "            irr_class: round((area / total_irrigated_area) * 100, 2)\n",
    "            for irr_class, area in class_area.items()\n",
    "        }\n",
    "\n",
    "        group_percentages[group_name] = method_percentages\n",
    "\n",
    "    return group_percentages\n",
    "\n"
   ]
  },
  {
   "cell_type": "code",
   "execution_count": 4,
   "id": "6cf2abe8-6b98-48ae-8927-8698e7639b82",
   "metadata": {},
   "outputs": [
    {
     "name": "stdout",
     "output_type": "stream",
     "text": [
      "✅ Saved correlation CSV to: /project/biocomplexity/wyr6fx(Nibir)/NeurIPS_Irrigation_Mapping_Model/Results/crop_irr_pct_Arizona_group.csv\n"
     ]
    }
   ],
   "source": [
    "state = 'Arizona'\n",
    "crop_path = f'/project/biocomplexity/wyr6fx(Nibir)/NeurIPS_Irrigation_Mapping_Model/Results/crop_distribution_{state}.tif'\n",
    "irr_path = f'/project/biocomplexity/wyr6fx(Nibir)/NeurIPS_Irrigation_Mapping_Model/Results/irrigation_majority_{state}.tif'\n",
    "valid_path = f'/project/biocomplexity/wyr6fx(Nibir)/NeurIPS_Irrigation_Mapping_Model/Results/valid_mask_{state}.tif'\n",
    "output_path = f'/project/biocomplexity/wyr6fx(Nibir)/NeurIPS_Irrigation_Mapping_Model/Results/crop_irr_pct_{state}_group.csv'\n",
    "pct = load_and_compute_group_crop_irr_percentage(crop_path,\n",
    "    irr_path,\n",
    "    valid_path)\n",
    "save_correlation_to_csv(pct,output_path=output_path)"
   ]
  },
  {
   "cell_type": "code",
   "execution_count": 22,
   "id": "ef24c895-8b15-46c8-8d35-f8afec36c1eb",
   "metadata": {
    "tags": []
   },
   "outputs": [
    {
     "data": {
      "text/plain": [
       "(69, 4986, 6358)"
      ]
     },
     "execution_count": 22,
     "metadata": {},
     "output_type": "execute_result"
    }
   ],
   "source": [
    "crop_stack.shape"
   ]
  },
  {
   "cell_type": "code",
   "execution_count": 5,
   "id": "7ab51bdc-5b15-47ff-824d-066d5c0f8eaa",
   "metadata": {
    "tags": []
   },
   "outputs": [
    {
     "name": "stderr",
     "output_type": "stream",
     "text": [
      "Aggregating min predictions: 100%|██████████| 302/302 [02:39<00:00,  1.89it/s]\n"
     ]
    }
   ],
   "source": [
    "import torch\n",
    "import numpy as np\n",
    "import geopandas as gpd\n",
    "from shapely import wkt\n",
    "from rasterio.features import rasterize\n",
    "from rasterio.transform import from_bounds\n",
    "from tqdm import tqdm\n",
    "\n",
    "# --- Set state ---\n",
    "# state = \"Arizona\"  # or any state you want\n",
    "\n",
    "# --- Load polygons ---\n",
    "gdf = gpd.read_file(f'/project/biocomplexity/wyr6fx(Nibir)/NeurIPS_irrigation_data/Agcensus/{state}_Irrigation.geojson')\n",
    "gdf = gdf.to_crs(\"EPSG:5070\")\n",
    "\n",
    "# --- Define global raster extent ---\n",
    "xmin, ymin, xmax, ymax = gdf.total_bounds\n",
    "resolution = 30  # meters\n",
    "width = int(np.ceil((xmax - xmin) / resolution))\n",
    "height = int(np.ceil((ymax - ymin) / resolution))\n",
    "transform = from_bounds(xmin, ymin, xmax, ymax, width, height)\n",
    "\n",
    "# --- Initialize global minimum prediction raster ---\n",
    "min_pred_map = np.full((height, width), fill_value=255, dtype=np.uint8)\n",
    "\n",
    "# --- Inference loop over patches ---\n",
    "model.eval()\n",
    "for batch in tqdm(data_module.train_dataloader(), desc=\"Aggregating min predictions\"):\n",
    "    with torch.no_grad():\n",
    "        polygons = batch['polygon']  # list of WKT strings\n",
    "        batch = {k: v.to('cuda') for k, v in batch.items() if isinstance(v, torch.Tensor)}\n",
    "        preds = model(batch)['predictions'].argmax(dim=1).cpu().numpy()\n",
    "\n",
    "    for i in range(preds.shape[0]):\n",
    "        patch_mask = preds[i]  # shape: (H, W)\n",
    "        poly = wkt.loads(polygons[i])\n",
    "        bounds = poly.bounds\n",
    "\n",
    "        h, w = patch_mask.shape\n",
    "        patch_transform = from_bounds(*bounds, w, h)\n",
    "\n",
    "        # Mask out only area inside the polygon\n",
    "        poly_raster = rasterize(\n",
    "            [(poly, 1)],\n",
    "            out_shape=(h, w),\n",
    "            transform=patch_transform,\n",
    "            fill=0,\n",
    "            dtype=np.uint8\n",
    "        )\n",
    "        patch_mask = patch_mask * poly_raster\n",
    "\n",
    "        # Get pixel coordinates in global raster\n",
    "        x0 = int((bounds[0] - xmin) / resolution)\n",
    "        y0 = int((ymax - bounds[3]) / resolution)\n",
    "        x1 = min(x0 + w, width)\n",
    "        y1 = min(y0 + h, height)\n",
    "        h_clip = y1 - y0\n",
    "        w_clip = x1 - x0\n",
    "\n",
    "        if h_clip <= 0 or w_clip <= 0:\n",
    "            continue\n",
    "\n",
    "        patch_mask = patch_mask[:h_clip, :w_clip].astype(np.uint8)\n",
    "\n",
    "        # Apply np.minimum only where the patch has a valid value (>0)\n",
    "        target = min_pred_map[y0:y1, x0:x1]\n",
    "        \n",
    "        np.minimum(target, patch_mask, out=target, where=(patch_mask > 0))\n",
    "\n",
    "# --- Optionally save the result ---\n",
    "# import rasterio\n",
    "# with rasterio.open(\n",
    "#     f\"min_prediction_{state}.tif\", 'w',\n",
    "#     driver='GTiff',\n",
    "#     height=height, width=width,\n",
    "#     count=1, dtype=np.uint8,\n",
    "#     crs=\"EPSG:5070\",\n",
    "#     transform=transform,\n",
    "# ) as dst:\n",
    "#     dst.write(min_pred_map, 1)\n"
   ]
  },
  {
   "cell_type": "code",
   "execution_count": 6,
   "id": "245ddf39-1a02-47a3-bc17-ca85c171e84d",
   "metadata": {
    "tags": []
   },
   "outputs": [
    {
     "name": "stderr",
     "output_type": "stream",
     "text": [
      "100%|██████████| 368/368 [00:03<00:00, 97.02it/s] \n"
     ]
    }
   ],
   "source": [
    "# --- Filter polygons based on min_pred_map ---\n",
    "valid_rows = []\n",
    "irrigated_counts = []\n",
    "\n",
    "# Optional: group if needed\n",
    "gdf_group = gdf.groupby(['geometry', 'County'])['Irrigated Acres'].sum().reset_index()\n",
    "\n",
    "for idx, geom in tqdm(enumerate(gdf_group.geometry), total=len(gdf_group)):\n",
    "    bounds = geom.bounds\n",
    "    x0 = int((bounds[0] - xmin) / resolution)\n",
    "    y0 = int((ymax - bounds[3]) / resolution)\n",
    "    x1 = int((bounds[2] - xmin) / resolution)\n",
    "    y1 = int((ymax - bounds[1]) / resolution)\n",
    "\n",
    "    h = y1 - y0\n",
    "    w = x1 - x0\n",
    "    if h <= 0 or w <= 0 or x1 > width or y1 > height:\n",
    "        continue\n",
    "\n",
    "    local_transform = from_bounds(*bounds, w, h)\n",
    "\n",
    "    poly_mask = rasterize(\n",
    "        [(geom, 1)],\n",
    "        out_shape=(h, w),\n",
    "        transform=local_transform,\n",
    "        fill=0,\n",
    "        dtype=np.uint8\n",
    "    )\n",
    "\n",
    "    # Extract the region of the prediction raster\n",
    "    pred_crop = min_pred_map[y0:y1, x0:x1]\n",
    "\n",
    "    if not np.any(poly_mask):\n",
    "        continue\n",
    "\n",
    "    irrigated_pixels = ((pred_crop == 1) * poly_mask).sum()\n",
    "    if irrigated_pixels == 0:\n",
    "        continue\n",
    "\n",
    "    valid_rows.append(idx)\n",
    "    irrigated_counts.append(irrigated_pixels)\n",
    "\n",
    "# --- Save filtered output ---\n",
    "gdf_group = gdf_group.loc[valid_rows].copy()\n",
    "gdf_group['irrigated_pixels'] = irrigated_counts\n",
    "# gdf_group.to_file(f\"predicted_irrigated_min_{state}.geojson\", driver=\"GeoJSON\")\n"
   ]
  },
  {
   "cell_type": "code",
   "execution_count": 8,
   "id": "e7bd661e-e25a-40b5-95e1-fcdc0fb41186",
   "metadata": {
    "tags": []
   },
   "outputs": [],
   "source": [
    "gdf_group['irrigation_discovered'] = gdf_group['irrigated_pixels']*0.2223945"
   ]
  },
  {
   "cell_type": "code",
   "execution_count": 10,
   "id": "f8826a7f-a2d4-4e31-bc83-3e7cd63e6966",
   "metadata": {
    "tags": []
   },
   "outputs": [
    {
     "data": {
      "text/plain": [
       "Irrigated Acres          680168.000000\n",
       "irrigation_discovered    394635.037149\n",
       "dtype: float64"
      ]
     },
     "execution_count": 10,
     "metadata": {},
     "output_type": "execute_result"
    }
   ],
   "source": [
    "gdf_group[['Irrigated Acres','irrigation_discovered']].sum()"
   ]
  },
  {
   "cell_type": "code",
   "execution_count": 11,
   "id": "feb1c58b-e45e-4ee1-afd7-69705b82f762",
   "metadata": {
    "tags": []
   },
   "outputs": [
    {
     "name": "stdout",
     "output_type": "stream",
     "text": [
      "RMSE: 58047.2753\n"
     ]
    }
   ],
   "source": [
    "true = gdf_group['Irrigated Acres'].astype(float).values\n",
    "pred = gdf_group['irrigation_discovered'].astype(float).values\n",
    "\n",
    "rmse = np.sqrt(np.mean((true - pred) ** 2))\n",
    "print(f\"RMSE: {rmse:.4f}\")"
   ]
  },
  {
   "cell_type": "code",
   "execution_count": 31,
   "id": "a0f45ca0-ad3b-4711-9bda-329d09d93891",
   "metadata": {
    "tags": []
   },
   "outputs": [
    {
     "data": {
      "text/plain": [
       "3363911"
      ]
     },
     "execution_count": 31,
     "metadata": {},
     "output_type": "execute_result"
    }
   ],
   "source": [
    "gdf['Irrigated Acres'].sum()"
   ]
  },
  {
   "cell_type": "code",
   "execution_count": 33,
   "id": "fb9367e1-17aa-4c17-bca1-68fd413a4235",
   "metadata": {
    "tags": []
   },
   "outputs": [
    {
     "data": {
      "text/plain": [
       "Irrigated Acres          7.057870e+05\n",
       "irrigation_discovered    1.639509e+06\n",
       "dtype: float64"
      ]
     },
     "execution_count": 33,
     "metadata": {},
     "output_type": "execute_result"
    }
   ],
   "source": [
    "gdf_group[['Irrigated Acres','irrigation_discovered']].sum()"
   ]
  },
  {
   "cell_type": "code",
   "execution_count": 36,
   "id": "9b2ab988-c6c7-4e65-b087-5b4e7245728b",
   "metadata": {
    "tags": []
   },
   "outputs": [
    {
     "data": {
      "text/plain": [
       "47"
      ]
     },
     "execution_count": 36,
     "metadata": {},
     "output_type": "execute_result"
    }
   ],
   "source": [
    "len(gdf_group"
   ]
  },
  {
   "cell_type": "code",
   "execution_count": 39,
   "id": "de21e221-5f8b-4411-a66c-8553fa1ff490",
   "metadata": {
    "tags": []
   },
   "outputs": [
    {
     "data": {
      "text/plain": [
       "3363911"
      ]
     },
     "execution_count": 39,
     "metadata": {},
     "output_type": "execute_result"
    }
   ],
   "source": [
    "gdf['Irrigated Acres'].sum()"
   ]
  },
  {
   "cell_type": "code",
   "execution_count": 10,
   "id": "83d62447-0ada-477f-8464-526564876e48",
   "metadata": {},
   "outputs": [],
   "source": [
    "data_dir = \"/project/biocomplexity/wyr6fx(Nibir)/NeurIPS_irrigation_data/Train-Test-Split\"\n",
    "state = 'Arizona'\n",
    "dataset = ImageMaskDataset(\n",
    "        data_dir=data_dir,\n",
    "        states=[(state, 1.0)],\n",
    "        train_type='unsupervised',\n",
    "        split='train',\n",
    "        transform=False,\n",
    "        vision_indices=['image']\n",
    "    )"
   ]
  },
  {
   "cell_type": "code",
   "execution_count": 12,
   "id": "63ac3ff9-28c2-4474-a470-283d284ecd68",
   "metadata": {
    "tags": []
   },
   "outputs": [
    {
     "data": {
      "text/plain": [
       "{'image_path': '/project/biocomplexity/wyr6fx(Nibir)/NeurIPS_irrigation_data/patches/Arizona/2023/003cda47-2e9e-4574-a023-e97c5c0ad9b2/L2A_T11SQT_A041980_20230706T182312/patch_10080_2016.tif',\n",
       " 'split': 'train',\n",
       " 'rgb': tensor([[[0.3961, 0.3922, 0.3882,  ..., 0.1216, 0.1216, 0.1216],\n",
       "          [0.3765, 0.3725, 0.3725,  ..., 0.1294, 0.1294, 0.1216],\n",
       "          [0.3804, 0.3765, 0.3725,  ..., 0.1216, 0.1294, 0.1294],\n",
       "          ...,\n",
       "          [0.4000, 0.4667, 0.4745,  ..., 0.6745, 0.6706, 0.6863],\n",
       "          [0.1922, 0.2118, 0.2588,  ..., 0.6588, 0.6784, 0.7020],\n",
       "          [0.1490, 0.1451, 0.1490,  ..., 0.6510, 0.6980, 0.6902]],\n",
       " \n",
       "         [[0.3294, 0.3294, 0.3294,  ..., 0.2196, 0.2196, 0.2196],\n",
       "          [0.3176, 0.3216, 0.3216,  ..., 0.2196, 0.2196, 0.2196],\n",
       "          [0.3176, 0.3176, 0.3216,  ..., 0.2235, 0.2196, 0.2196],\n",
       "          ...,\n",
       "          [0.3647, 0.4000, 0.4078,  ..., 0.5490, 0.5490, 0.5451],\n",
       "          [0.2706, 0.2745, 0.2941,  ..., 0.5333, 0.5490, 0.5686],\n",
       "          [0.2471, 0.2471, 0.2510,  ..., 0.5294, 0.5569, 0.5686]],\n",
       " \n",
       "         [[0.2235, 0.2196, 0.2196,  ..., 0.1098, 0.1098, 0.1098],\n",
       "          [0.2157, 0.2157, 0.2118,  ..., 0.1176, 0.1098, 0.1098],\n",
       "          [0.2157, 0.2157, 0.2118,  ..., 0.1098, 0.1098, 0.1098],\n",
       "          ...,\n",
       "          [0.2471, 0.2863, 0.2863,  ..., 0.4235, 0.4353, 0.4235],\n",
       "          [0.1294, 0.1373, 0.1765,  ..., 0.4157, 0.4353, 0.4431],\n",
       "          [0.1216, 0.1216, 0.1216,  ..., 0.4196, 0.4431, 0.4431]]]),\n",
       " 'agri_index': None,\n",
       " 'agri_index_names': [],\n",
       " 'land_mask': tensor([[[0.0000, 0.0000, 0.0000,  ..., 0.1412, 0.1412, 0.1412],\n",
       "          [0.0000, 0.0000, 0.0000,  ..., 0.1412, 0.1412, 0.1412],\n",
       "          [0.0000, 0.0000, 0.0000,  ..., 0.1412, 0.1412, 0.1412],\n",
       "          ...,\n",
       "          [0.1412, 0.1412, 0.1412,  ..., 0.5961, 0.5961, 0.5961],\n",
       "          [0.1412, 0.1412, 0.1412,  ..., 0.5961, 0.5961, 0.5961],\n",
       "          [0.1412, 0.1412, 0.1412,  ..., 0.4745, 0.4745, 0.4745]]]),\n",
       " 'crop_mask': tensor([[[0., 0., 0.,  ..., 0., 0., 0.],\n",
       "          [0., 0., 0.,  ..., 0., 0., 0.],\n",
       "          [0., 0., 0.,  ..., 0., 0., 0.],\n",
       "          ...,\n",
       "          [0., 0., 0.,  ..., 0., 0., 0.],\n",
       "          [0., 0., 0.,  ..., 0., 0., 0.],\n",
       "          [0., 0., 0.,  ..., 0., 0., 0.]]]),\n",
       " 'irr_mask': None,\n",
       " 'subirr_mask': None,\n",
       " 'is_labeled': False,\n",
       " 'text_prompt': 'riverside county, arizona. et: 170.51 mm. precipitation: 0.01 in. ground water: 10.94 ft. surface water: 7.23 ft. soil: indio. texture: stratified very fine sandy loam to silt loam; silt loam; loamy sand. geomorph: intermontane basins; flood plains. irrigation: nonenone. runoff: none. drain: well drained. group: b. hydric: no. awc: 0.143. ksat: 36.667. om: 0.417. bd: 1.403. wc10: 6.300. wc15: 6.567.. ## soil: indio; lagunita; ripley. texture: silt loam; stratified very fine sandy loam; stratified silt; loamy sand; silt loam. geomorph: flood plains; alluvial fans; terraces; drainageways. irrigation: 4s. runoff: none. drain: well drained. group: b. hydric: no. awc: 0.128. ksat: 40.923. om: 0.250. bd: 1.460. wc10: 5.667. wc15: 5.818.. ## soil: ligurta; cristobal. texture: very gravelly loam; gravelly clay loam; gravelly sandy clay loam; very gravelly clay loam; extremely gravelly clay loam. geomorph: alluvial fans; terraces. irrigation: nonenone. runoff: none. drain: well drained. group: c. hydric: no. awc: 0.020. ksat: 5.634. om: 0.250. bd: 1.757. wc10: 0.000. wc15: 9.293.. ## soil: carrizo. texture: stratified very gravelly coarse sand to very gravelly sand; very gravelly loamy sand; very gravelly sand. geomorph: alluvial fans; flood plains. irrigation: 4s. runoff: none. drain: excessively drained. group: a. hydric: no. awc: 0.030. ksat: 141.000. om: 0.250. bd: 1.805. wc10: 6.250. wc15: 1.100.. ## soil: torriorthents; torrifluvents. texture: na. geomorph: terraces; alluvial fans. irrigation: nonenone. runoff: none. drain: well drained. group: none. hydric: no. awc: 0.000. ksat: 0.000. om: 0.000. bd: 0.000. wc10: 0.000. wc15: 0.000.. ## soil: gadsden. texture: clay; silty clay loam. geomorph: terraces; flood plains. irrigation: 3s. runoff: none. drain: well drained. group: c. hydric: no. awc: 0.160. ksat: 1.000. om: 0.500. bd: 1.505. wc10: 0.000. wc15: 25.350..',\n",
       " 'polygon': <POLYGON ((-1709546.164 1317699.592, -1709546.164 1319939.653, -1711786.224 ...>,\n",
       " 'crs': CRS.from_epsg(5070)}"
      ]
     },
     "execution_count": 12,
     "metadata": {},
     "output_type": "execute_result"
    }
   ],
   "source": [
    "dataset[0]"
   ]
  },
  {
   "cell_type": "code",
   "execution_count": 9,
   "id": "7be4ebe5-8ccd-4b88-80d6-c540ed50e069",
   "metadata": {
    "tags": []
   },
   "outputs": [
    {
     "data": {
      "text/plain": [
       "{'image_path': '/project/biocomplexity/wyr6fx(Nibir)/NeurIPS_irrigation_data/patches/Georgia/2023/02b1cac4-9243-45e6-9db6-dfec8a4ebad4/L2A_T16SGB_A033342_20230725T162050/patch_0_10528.tif',\n",
       " 'split': 'train',\n",
       " 'rgb': tensor([[[0.0000, 0.0000, 0.0000,  ..., 0.0000, 0.0000, 0.0000],\n",
       "          [0.0000, 0.0000, 0.0000,  ..., 0.0000, 0.0000, 0.0000],\n",
       "          [0.0000, 0.0000, 0.0000,  ..., 0.0000, 0.0000, 0.0000],\n",
       "          ...,\n",
       "          [0.4627, 0.4667, 0.4824,  ..., 0.4510, 0.4510, 0.4471],\n",
       "          [0.4627, 0.4627, 0.4627,  ..., 0.4471, 0.4510, 0.4510],\n",
       "          [0.4627, 0.4627, 0.4588,  ..., 0.4471, 0.4510, 0.4510]],\n",
       " \n",
       "         [[0.0000, 0.0000, 0.0000,  ..., 0.0000, 0.0000, 0.0000],\n",
       "          [0.0000, 0.0000, 0.0000,  ..., 0.0000, 0.0000, 0.0000],\n",
       "          [0.0000, 0.0000, 0.0000,  ..., 0.0000, 0.0000, 0.0000],\n",
       "          ...,\n",
       "          [0.5176, 0.5216, 0.5255,  ..., 0.5137, 0.5059, 0.5059],\n",
       "          [0.5216, 0.5176, 0.5176,  ..., 0.5137, 0.5059, 0.5098],\n",
       "          [0.5216, 0.5176, 0.5176,  ..., 0.5098, 0.5098, 0.5098]],\n",
       " \n",
       "         [[0.0000, 0.0000, 0.0000,  ..., 0.0000, 0.0000, 0.0000],\n",
       "          [0.0000, 0.0000, 0.0000,  ..., 0.0000, 0.0000, 0.0000],\n",
       "          [0.0000, 0.0000, 0.0000,  ..., 0.0000, 0.0000, 0.0000],\n",
       "          ...,\n",
       "          [0.4784, 0.4824, 0.4863,  ..., 0.4745, 0.4745, 0.4706],\n",
       "          [0.4824, 0.4824, 0.4824,  ..., 0.4745, 0.4706, 0.4745],\n",
       "          [0.4863, 0.4824, 0.4784,  ..., 0.4745, 0.4745, 0.4745]]]),\n",
       " 'agri_index': None,\n",
       " 'agri_index_names': [],\n",
       " 'land_mask': tensor([[[0.5529, 0.5529, 0.5569,  ..., 0.6902, 0.6902, 0.6902],\n",
       "          [0.5529, 0.5529, 0.5569,  ..., 0.6902, 0.6902, 0.6902],\n",
       "          [0.5569, 0.5569, 0.5569,  ..., 0.6902, 0.6902, 0.6902],\n",
       "          ...,\n",
       "          [0.5608, 0.5608, 0.5529,  ..., 0.5529, 0.5529, 0.5529],\n",
       "          [0.5608, 0.5608, 0.5529,  ..., 0.5529, 0.5529, 0.5529],\n",
       "          [0.5608, 0.5608, 0.5529,  ..., 0.5529, 0.5529, 0.5529]]]),\n",
       " 'crop_mask': tensor([[[0., 0., 0.,  ..., 0., 0., 0.],\n",
       "          [0., 0., 0.,  ..., 0., 0., 0.],\n",
       "          [0., 0., 0.,  ..., 0., 0., 0.],\n",
       "          ...,\n",
       "          [0., 0., 0.,  ..., 0., 0., 0.],\n",
       "          [0., 0., 0.,  ..., 0., 0., 0.],\n",
       "          [0., 0., 0.,  ..., 0., 0., 0.]]]),\n",
       " 'irr_mask': None,\n",
       " 'subirr_mask': None,\n",
       " 'is_labeled': False,\n",
       " 'text_prompt': 'jasper county, georgia. et: 161.29 mm. precipitation: 0.12 in. ground water: 13.44 ft. surface water: 8.02 ft. soil: chewacla. texture: clay loam; silty clay loam; silt loam; sandy clay loam; loam. geomorph: piedmonts; flood plains. irrigation: nonenone. runoff: negligible. drain: somewhat poorly drained. group: b/d. hydric: no. awc: 0.190. ksat: 9.000. om: 1.750. bd: 1.548. wc10: 0.000. wc15: 17.675.. ## soil: cecil. texture: clay; clay loam; sandy clay; sandy loam; loam. geomorph: piedmonts; hills. irrigation: nonenone. runoff: none. drain: well drained. group: b. hydric: no. awc: 0.123. ksat: 15.333. om: 0.417. bd: 1.587. wc10: 0.000. wc15: 15.733.. ## soil: cecil. texture: sandy loam; loam; sandy clay loam; clay; clay loam. geomorph: piedmonts; hills. irrigation: nonenone. runoff: low. drain: well drained. group: b. hydric: no. awc: 0.123. ksat: 15.333. om: 0.417. bd: 1.587. wc10: 0.000. wc15: 15.733.. ## soil: cecil. texture: sandy clay loam; clay; clay loam; sandy clay; sandy loam. geomorph: piedmonts; hills. irrigation: nonenone. runoff: none. drain: well drained. group: b. hydric: no. awc: 0.130. ksat: 9.000. om: 0.375. bd: 1.445. wc10: 0.000. wc15: 15.975.. ## soil: cecil. texture: clay loam; sandy clay loam; sandy loam; fine sandy loam; loam. geomorph: piedmonts; hills. irrigation: nonenone. runoff: none. drain: well drained. group: b. hydric: no. awc: 0.130. ksat: 9.000. om: 0.375. bd: 1.445. wc10: 0.000. wc15: 15.975.. ## soil: gwinnett. texture: sandy loam; clay; sandy clay; clay loam; sandy clay loam. geomorph: piedmonts; hills. irrigation: nonenone. runoff: none. drain: well drained. group: b. hydric: no. awc: 0.107. ksat: 6.800. om: 0.600. bd: 1.117. wc10: 0.000. wc15: 14.000.. ## soil: iredell. texture: clay; fine sandy loam; loam; sandy clay loam; sandy loam. geomorph: piedmonts; flats. irrigation: nonenone. runoff: none. drain: somewhat poorly drained. group: c/d. hydric: no. awc: 0.170. ksat: 12.333. om: 0.583. bd: 1.593. wc10: 0.000. wc15: 15.533.. ## soil: lloyd. texture: loam; clay; sandy clay loam; clay loam; silty clay. geomorph: piedmonts; hills. irrigation: nonenone. runoff: none. drain: well drained. group: b. hydric: no. awc: 0.135. ksat: 9.000. om: 0.500. bd: 1.508. wc10: 0.000. wc15: 18.100.. ## soil: lloyd. texture: clay; silty clay; clay loam; sandy loam; loam. geomorph: piedmonts; hills. irrigation: nonenone. runoff: none. drain: well drained. group: b. hydric: no. awc: 0.135. ksat: 9.000. om: 0.500. bd: 1.508. wc10: 0.000. wc15: 18.100.. ## soil: lloyd. texture: clay loam; clay; sandy clay loam; silty clay; sandy loam. geomorph: piedmonts; hills. irrigation: nonenone. runoff: none. drain: well drained. group: b. hydric: no. awc: 0.135. ksat: 9.000. om: 0.500. bd: 1.508. wc10: 0.000. wc15: 18.350.. ## soil: lloyd. texture: clay; silty clay; clay loam; sandy clay loam; sandy loam. geomorph: piedmonts; hills. irrigation: nonenone. runoff: none. drain: well drained. group: b. hydric: no. awc: 0.135. ksat: 9.000. om: 0.500. bd: 1.508. wc10: 0.000. wc15: 18.350.. ## soil: pacolet. texture: clay loam; sandy clay loam; sandy loam; fine sandy loam; loam. geomorph: piedmonts; hills. irrigation: nonenone. runoff: none. drain: well drained. group: b. hydric: no. awc: 0.120. ksat: 13.750. om: 0.500. bd: 1.405. wc10: 0.000. wc15: 13.750.. ## soil: pacolet. texture: sandy clay; clay loam; clay; sandy clay loam; sandy loam. geomorph: piedmonts; hills. irrigation: nonenone. runoff: none. drain: well drained. group: b. hydric: no. awc: 0.120. ksat: 13.750. om: 0.500. bd: 1.405. wc10: 0.000. wc15: 13.750.. ## soil: pacolet. texture: clay loam; sandy clay loam; sandy loam; fine sandy loam; loam. geomorph: piedmonts; hills. irrigation: nonenone. runoff: low. drain: well drained. group: b. hydric: no. awc: 0.122. ksat: 9.000. om: 0.375. bd: 1.605. wc10: 0.000. wc15: 16.650.. ## soil: pacolet. texture: sandy clay; clay loam; clay; sandy clay loam; sandy loam. geomorph: piedmonts; hills. irrigation: nonenone. runoff: medium. drain: well drained. group: b. hydric: no. awc: 0.122. ksat: 9.000. om: 0.375. bd: 1.605. wc10: 0.000. wc15: 16.650.. ## soil: pacolet. texture: sandy loam; fine sandy loam; loam; sandy clay loam; clay loam. geomorph: piedmonts; hills. irrigation: nonenone. runoff: high. drain: well drained. group: b. hydric: no. awc: 0.122. ksat: 9.000. om: 0.375. bd: 1.605. wc10: 0.000. wc15: 16.650..',\n",
       " 'polygon': <POLYGON ((1135184.262 1218943.654, 1135184.262 1221183.517, 1132944.399 122...>,\n",
       " 'crs': CRS.from_epsg(5070)}"
      ]
     },
     "execution_count": 9,
     "metadata": {},
     "output_type": "execute_result"
    }
   ],
   "source": [
    "dataset[0]"
   ]
  },
  {
   "cell_type": "code",
   "execution_count": 11,
   "id": "ed249512-323d-4f29-90cd-17b89e68bafa",
   "metadata": {},
   "outputs": [
    {
     "data": {
      "image/png": "[encoded data removed]",
      "text/plain": [
       "<Figure size 700x500 with 1 Axes>"
      ]
     },
     "metadata": {},
     "output_type": "display_data"
    }
   ],
   "source": [
    "import os\n",
    "import numpy as np\n",
    "import matplotlib.pyplot as plt\n",
    "from glob import glob\n",
    "\n",
    "# === Configuration ===\n",
    "state = \"Arizona\"\n",
    "base_dir = f\"/project/biocomplexity/wyr6fx(Nibir)/NeurIPS_irrigation_data\"\n",
    "conf_dir = os.path.join(base_dir, \"generated_confes\", state)\n",
    "label_dir = os.path.join(base_dir, \"generated_labeles\", state)\n",
    "\n",
    "# === Load all confidence and label paths ===\n",
    "conf_paths = sorted(glob(os.path.join(conf_dir, \"**\", \"*.npy\"), recursive=True))\n",
    "\n",
    "# === Initialize lists for each class ===\n",
    "classwise_confidence = {0: [], 1: [],2:[],3:[]}  # 0 = non-irrigated, 1 = irrigated\n",
    "\n",
    "for conf_path in conf_paths:\n",
    "    # Get matching label path\n",
    "    label_path = conf_path.replace(\"generated_conf\", \"generated_label\")\n",
    "    if not os.path.exists(label_path):\n",
    "        continue  # skip if label is missing\n",
    "\n",
    "    # Load data\n",
    "    conf_map = np.load(conf_path)\n",
    "    label_map = np.load(label_path)\n",
    "\n",
    "    for cls in [0, 1,2,3]:\n",
    "        mask = (label_map == cls)\n",
    "        if np.any(mask):\n",
    "            classwise_confidence[cls].append(np.mean(conf_map[mask]))\n",
    "\n",
    "# === Create Box Plot ===\n",
    "plt.figure(figsize=(7, 5))\n",
    "plt.boxplot(\n",
    "    [classwise_confidence[0], classwise_confidence[1],classwise_confidence[2],classwise_confidence[3]],\n",
    "    vert=True,\n",
    "    patch_artist=True,\n",
    "    labels=[\"Non-Irrigated\", \"Flood\",'Sprinkler','Drip']\n",
    ")\n",
    "plt.ylabel(\"Mean Confidence Score\")\n",
    "plt.title(f\"Classwise Confidence Score Distribution ({state})\")\n",
    "plt.grid(True, axis='y')\n",
    "plt.tight_layout()\n",
    "plt.show()\n"
   ]
  },
  {
   "cell_type": "code",
   "execution_count": null,
   "id": "985fe03a-8b0f-4e09-8f5d-dc537ae4f6ce",
   "metadata": {
    "tags": []
   },
   "outputs": [
    {
     "name": "stderr",
     "output_type": "stream",
     "text": [
      "Processing States:  94%|█████████▍| 16/17 [1:27:32<17:12, 1032.63s/it]"
     ]
    }
   ],
   "source": [
    "import os\n",
    "import numpy as np\n",
    "import pandas as pd\n",
    "import matplotlib.pyplot as plt\n",
    "import seaborn as sns\n",
    "from glob import glob\n",
    "from tqdm import tqdm\n",
    "from concurrent.futures import ProcessPoolExecutor, as_completed\n",
    "\n",
    "# === Configuration ===\n",
    "states = [\n",
    "    \"Arizona\", \"Florida\", \"Georgia\", \"Texas\", \"Arkansas\", \"California\",\n",
    "    \"Nebraska\", \"Ohio\", \"North Carolina\", \"South Carolina\", \"Pennsylvania\",\n",
    "    \"West Virginia\", \"New Jersey\", \"Michigan\", \"Indiana\", \"Maryland\", \"Oregon\"\n",
    "]\n",
    "base_dir = \"/project/biocomplexity/wyr6fx(Nibir)/NeurIPS_irrigation_data\"\n",
    "class_names = {0: \"Non-Irrigated\", 1: \"Flood\", 2: \"Sprinkler\", 3: \"Drip\"}\n",
    "\n",
    "\n",
    "# === Worker function ===\n",
    "def process_state(state):\n",
    "    state_records = []\n",
    "    conf_dir = os.path.join(base_dir, \"generated_confes\", state)\n",
    "    conf_paths = sorted(glob(os.path.join(conf_dir, \"**\", \"*.npy\"), recursive=True))\n",
    "\n",
    "    for conf_path in conf_paths:\n",
    "        label_path = conf_path.replace(\"generated_conf\", \"generated_label\")\n",
    "        if not os.path.exists(label_path):\n",
    "            continue\n",
    "\n",
    "        conf_map = np.load(conf_path)\n",
    "        label_map = np.load(label_path)\n",
    "\n",
    "        for cls in range(4):\n",
    "            mask = (label_map == cls)\n",
    "            if not np.any(mask):\n",
    "                continue\n",
    "            mean_conf = np.mean(conf_map[mask])\n",
    "            state_records.append({\n",
    "                \"State\": state,\n",
    "                \"Class\": class_names[cls],\n",
    "                \"Confidence\": mean_conf\n",
    "            })\n",
    "    return state_records\n",
    "\n",
    "\n",
    "# === Run in Parallel ===\n",
    "all_records = []\n",
    "with ProcessPoolExecutor() as executor:\n",
    "    futures = {executor.submit(process_state, state): state for state in states}\n",
    "    for future in tqdm(as_completed(futures), total=len(futures), desc=\"Processing States\"):\n",
    "        all_records.extend(future.result())\n",
    "\n",
    "# === Create DataFrame ===\n",
    "df = pd.DataFrame(all_records)\n",
    "print(\"DataFrame columns:\", df.columns.tolist())\n",
    "print(df.head())\n",
    "\n",
    "# === Plot ===\n",
    "plt.figure(figsize=(14, 6))\n",
    "sns.boxplot(data=df, x=\"Class\", y=\"Confidence\", hue=\"State\")\n",
    "plt.title(\"Classwise Confidence Distribution Across States\")\n",
    "plt.ylabel(\"Mean Confidence Score\")\n",
    "plt.xticks(rotation=15)\n",
    "plt.legend(bbox_to_anchor=(1.02, 1), loc='upper left', borderaxespad=0.)\n",
    "plt.grid(True, axis='y')\n",
    "plt.tight_layout()\n",
    "plt.show()\n"
   ]
  },
  {
   "cell_type": "code",
   "execution_count": null,
   "id": "b17daad7-a135-46ab-a334-7a29fcbe61f2",
   "metadata": {},
   "outputs": [],
   "source": []
  }
 ],
 "metadata": {
  "kernelspec": {
   "display_name": "Python (base)",
   "language": "python",
   "name": "base"
  },
  "language_info": {
   "codemirror_mode": {
    "name": "ipython",
    "version": 3
   },
   "file_extension": ".py",
   "mimetype": "text/x-python",
   "name": "python",
   "nbconvert_exporter": "python",
   "pygments_lexer": "ipython3",
   "version": "3.11.4"
  }
 },
 "nbformat": 4,
 "nbformat_minor": 5
}
